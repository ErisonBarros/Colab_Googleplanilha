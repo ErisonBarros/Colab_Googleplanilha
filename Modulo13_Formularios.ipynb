{
  "nbformat": 4,
  "nbformat_minor": 0,
  "metadata": {
    "colab": {
      "name": "Modulo13-Formularios",
      "provenance": [],
      "collapsed_sections": [],
      "include_colab_link": true
    },
    "kernelspec": {
      "display_name": "Python 3",
      "name": "python3"
    }
  },
  "cells": [
    {
      "cell_type": "markdown",
      "metadata": {
        "id": "view-in-github",
        "colab_type": "text"
      },
      "source": [
        "<a href=\"https://colab.research.google.com/github/ErisonBarros/Colab_Googleplanilha/blob/master/Modulo13_Formularios.ipynb\" target=\"_parent\"><img src=\"https://colab.research.google.com/assets/colab-badge.svg\" alt=\"Open In Colab\"/></a>"
      ]
    },
    {
      "cell_type": "markdown",
      "metadata": {
        "id": "_7gRpQLXQSID"
      },
      "source": [
        "# 1. Criando formulários: Introdução\n",
        "\n",
        "Formulários fornecem uma forma rápida e fácil para parametrizar o código de um programa. Para criar formulários, após selecionar criar ou selecionar um célula de código é possível proceder de duas formas:\n",
        "\n",
        "* Selecionar no menu superior do ambiente a aba **'Inserir'** e depois a opção **'Adicionar um campo de formulário'**;\n",
        "\n",
        "* Digitar o código como dado nas células a seguir.\n",
        "\n",
        "Antes da inserção de um ou mais componentes específicos em um formulário é possível adicionar um título ao mesmo através da seguinte sintaxe:\n",
        "\n",
        "**'#@title titulo_do_formulario'**\n",
        "\n",
        "Cada componente de um formulário pode ser dividido em dois\n",
        "**campos**:\n",
        "\n",
        "* **Legenda**: serve para indicar qual conteúdo deve ser informado no campo **valor**. A legenda do campo é também o nome da variável que irá receber o valor digitado no campo **valor** do componente.  \n",
        "\n",
        "* **Valor**: pode receber valores dos seguintes tipos: **boolean**, **date**, **integer**, **number**, **string**, e **raw** (aceita todos os formatos anteriores). \n",
        "\n",
        "A sintaxe geral de um componente é dada por:\n",
        "\n",
        "nome_variavel = 'valor_inicial_componente' **#@param** '{ }' ou '[ ]'\n",
        "\n",
        "Os operadores '{ }' e '[ ]' podem variar de acordo com o componente que se pretende utilizar: \n",
        "\n",
        "* Para o operador '{ }', o tipo da variável deverá ser especificado após o comando **#@param** dentro de chaves **{ }** e usando a palavra-chave **type** e alguns dos tipos enumerados anteriormente tais como **boolean** ou **string**.\n",
        "\n",
        "* Para o operador '[ ]' o padrão é utilizar o tipo **string**, que pode ser alterado para permitir outros tipos desde que após o operador '[ ]' seja empregado o operador '{ }' através do comando **'{type:\"raw\"}'**.\n",
        "\n",
        "A seguir será ilustrado o uso da sintaxe descrita através de códigos que geram formulários.\n",
        "\n"
      ]
    },
    {
      "cell_type": "markdown",
      "metadata": {
        "id": "EitV40Ls6Mt5"
      },
      "source": [
        "# 2. Formulários com tipo texto\n",
        "\n",
        "É importante observar que o formulário dado a seguir mostra as possibilidades de trabalho com campos do tipo **texto (string)** e tem os seguintes componentes:\n",
        "\n",
        "* **Texto**: composto de uma legenda e um campo para realizar a digitação de um valor.\n",
        "\n",
        "\n",
        "* **Dropdown**: apresenta um **menu suspenso** com opções pré-determinadas e apenas uma delas deve ser escolhida. As opções devem ser colocadas em uma lista usando-se o comando **#@param** e as opções enumeradas dentro de colchetes **[ ]**. A opção inicial de valor é dada antes do comando **#@param**.\n",
        "\n",
        "* **Text_and_dropdown**: apresenta um **menu suspenso** com opções pré-determinadas, mas também é possível inserir um texto inicial fora da lista que permite a inserção de qualquer texto não relacionado ao menu de opções. Para tanto, além da configuração como dado no caso **Dropdown** é necessário colocar ao final da lista opções o seguinte comando **{allow-input: true}**."
      ]
    },
    {
      "cell_type": "code",
      "metadata": {
        "id": "3jKM6GfzlgpS"
      },
      "source": [
        "#@title Campos com texto\n",
        "\n",
        "text = 'valor' #@param {type:\"string\"}\n",
        "dropdown = 'Opção 1' #@param [\"Opção 1\", \"Opção 2\", \"Opção 3\"]\n",
        "text_and_dropdown = 'valor' #@param [\"Opção 1\", \"Opção 2\", \"Opção 3\"] {allow-input: true}\n",
        "\n",
        "print(text)\n",
        "print(dropdown)\n",
        "print(text_and_dropdown)"
      ],
      "execution_count": null,
      "outputs": []
    },
    {
      "cell_type": "markdown",
      "metadata": {
        "id": "wilR2yBaHJHO"
      },
      "source": [
        "Para que o formulário funcione adequadamente é necessário selecionar a célula com o código, depois selecionar o **'menu suspenso'**, selecionar a opção com figura de **'três pontos verticais'** (outras opções), selecionar no menu suspenso a opção **'formulário'**, e depois a opção **'ocultar código'**.\n",
        "\n",
        "Após essa configuração o formulário ficará com a aparência dada a seguir."
      ]
    },
    {
      "cell_type": "code",
      "metadata": {
        "colab": {
          "base_uri": "https://localhost:8080/"
        },
        "cellView": "form",
        "id": "CN2SeVQPG-pk",
        "outputId": "f102dccd-0bc8-48af-b2d9-ff9491ccbe3f"
      },
      "source": [
        "#@title Campos com texto\n",
        "\n",
        "text = 'valor' #@param {type:\"string\"}\n",
        "dropdown = 'Opção 1' #@param [\"Opção 1\", \"Opção 2\", \"Opção 3\"]\n",
        "text_and_dropdown = 'valor' #@param [\"Opção 1\", \"Opção 2\", \"Opção 3\"] {allow-input: true}\n",
        "\n",
        "print(text)\n",
        "print(dropdown)\n",
        "print(text_and_dropdown)"
      ],
      "execution_count": null,
      "outputs": [
        {
          "output_type": "stream",
          "text": [
            "valor\n",
            "Opção 1\n",
            "valor\n"
          ],
          "name": "stdout"
        }
      ]
    },
    {
      "cell_type": "markdown",
      "metadata": {
        "id": "aaAH6ih_Inpn"
      },
      "source": [
        "Após essa configuração para se usar o formulário é necessário preencher o mesmo com os valores desejados. Para que o formulário leia os valores fornecidos, basta pressionar o botão de execução da célula com o código. Observar que no código anterior será mostrado o conteúdo recebido para cada uma das variáveis associadas aos conteúdos de cada campo."
      ]
    },
    {
      "cell_type": "markdown",
      "metadata": {
        "id": "CVnmflzb-Xn4"
      },
      "source": [
        "# 3. Formulários com campo Coringa (**raw**)\n",
        "\n",
        "O tipo coringa (**raw**) permite a utilização de qualquer outro tipo, isto é: **boolean**, **date**, **integer**, **number**, **string**.\n",
        "\n",
        "A seguir é mostrado com esse tipo pode ser empregado para um campo que permite a inserção de valor ou em um menu suspenso com opções. É importante frisar que no caso do menu suspenso com opções é necessário adicionar ao final da lista de opções o código **'{type:\"raw\"}'**. Observe também que quando se escolhe a segunda opção do menu, é habilitado empregar automaticamente o conteúdo da variável **'raw_input'** do primeiro componente do formulário. O código a seguir exibe o resultado obtido para essa opção. "
      ]
    },
    {
      "cell_type": "code",
      "metadata": {
        "id": "bf5LUmgZt-kT",
        "colab": {
          "base_uri": "https://localhost:8080/"
        },
        "outputId": "2ae65346-c105-4aac-d353-d615503f0569"
      },
      "source": [
        "#@title Campos Coringa (Raw)\n",
        "\n",
        "raw_input =  2#@param {type:\"raw\"}\n",
        "raw_dropdown = raw_input #@param [1, \"raw_input\", \"False\", \"'string'\"] {type:\"raw\"}\n",
        "\n",
        "print(raw_input)\n",
        "print(raw_dropdown)"
      ],
      "execution_count": null,
      "outputs": [
        {
          "output_type": "stream",
          "text": [
            "2\n",
            "2\n"
          ],
          "name": "stdout"
        }
      ]
    },
    {
      "cell_type": "markdown",
      "metadata": {
        "id": "7Cw8qu3OAR9K"
      },
      "source": [
        "Observe que para todas as outras opções o valor será exatamente do tipo cujo nome é mostrado nas opções. Por exemplo, para a opção **'1'**, o valor será um **valor inteiro**.   "
      ]
    },
    {
      "cell_type": "code",
      "metadata": {
        "colab": {
          "base_uri": "https://localhost:8080/"
        },
        "id": "7lFb_irwARDg",
        "outputId": "c8cc9f79-8019-469f-911e-413cb32c1b78"
      },
      "source": [
        "#@title Campos Coringa (Raw)\n",
        "\n",
        "raw_input =  2#@param {type:\"raw\"}\n",
        "raw_dropdown = 1 #@param [1, \"raw_input\", \"False\", \"'string'\"] {type:\"raw\"}\n",
        "\n",
        "print(raw_input)\n",
        "print(raw_dropdown+5)"
      ],
      "execution_count": null,
      "outputs": [
        {
          "output_type": "stream",
          "text": [
            "2\n",
            "6\n"
          ],
          "name": "stdout"
        }
      ]
    },
    {
      "cell_type": "markdown",
      "metadata": {
        "id": "BkAw47NxCBvH"
      },
      "source": [
        "Já para **'string'** o valor será uma **string**.   "
      ]
    },
    {
      "cell_type": "code",
      "metadata": {
        "colab": {
          "base_uri": "https://localhost:8080/"
        },
        "id": "Eh6HpDkXBhCV",
        "outputId": "1b2e7253-4a6e-40fe-b8e7-45fadb80f0ae"
      },
      "source": [
        "#@title Campos Coringa (Raw)\n",
        "\n",
        "raw_input =  2#@param {type:\"raw\"}\n",
        "raw_dropdown = 'string' #@param [1, \"raw_input\", \"False\", \"'string'\"] {type:\"raw\"}\n",
        "\n",
        "print(raw_input)\n",
        "print(raw_dropdown+'5')"
      ],
      "execution_count": null,
      "outputs": [
        {
          "output_type": "stream",
          "text": [
            "2\n",
            "string5\n"
          ],
          "name": "stdout"
        }
      ]
    },
    {
      "cell_type": "markdown",
      "metadata": {
        "id": "S10AruUPCKGB"
      },
      "source": [
        "# 4. Formulários com campo Data\n",
        "\n",
        "O tipo data (**date**) permite a utilização de um menu de calendário para permitir a seleção de um dia, mês e ano para uma data específica.\n",
        "\n",
        "O código a seguir ilustra como é feito esse processo e o respectivo resultado."
      ]
    },
    {
      "cell_type": "code",
      "metadata": {
        "id": "aw5lgeRbubeF",
        "colab": {
          "base_uri": "https://localhost:8080/"
        },
        "outputId": "63989ebd-385f-432d-b1df-e7a8f2446c6f"
      },
      "source": [
        "#@title Campo data\n",
        "date_input = '2018-03-22' #@param {type:\"date\"}\n",
        "\n",
        "print(date_input)"
      ],
      "execution_count": null,
      "outputs": [
        {
          "output_type": "stream",
          "text": [
            "2018-03-22\n"
          ],
          "name": "stdout"
        }
      ]
    },
    {
      "cell_type": "markdown",
      "metadata": {
        "id": "Gzu67mAVD4K5"
      },
      "source": [
        "# 5. Formulários com valores numéricos\n",
        "\n",
        "Os valores numéricos podem ser de dois tipos:\n",
        "\n",
        "* **number**: valores reais;\n",
        "\n",
        "* **integer**: valores inteiros.\n",
        "\n",
        "Os valores numéricos podem ser fornecidos via formulário através de dois tipos de componentes:\n",
        "\n",
        "* Campo para inserção direta de valor;\n",
        "\n",
        "* Barra seletora que permite que um valor seja selecionado com o mouse. O valor selecionado será mostrado através de um número à direita da barra seletora.\n",
        "\n",
        "Importante observar que a diferença entre um campo **number** e um campo **integer** é o tipo, isto é, em termos de sintaxe: **'{type:\"number\"}'**, **'{type:\"integer\"}'**, respectivamente.\n",
        "\n",
        "Já para uma barra seletora, qualquer que seja o tipo usa-se:\n",
        "**'type:\"slider\"'**. Além disso, qualquer barra seletora possui três parâmetros adicionais que são: **'min'** (valor mínimo representado pela barra), **'max'** (valor máximo representado pela barra) e **'step'** (valores intermediários). A diferença entre a barra seletora de valores reais ou inteiros se dará no parâmetro **'step'**, pois se este possibilitar apenas valores inteiros, então, apenas valores inteiros serão retornados e idem para valores reais. \n",
        "\n",
        "As possibilidades anteriormente mencionadas são aplicadas no código dado a seguir."
      ]
    },
    {
      "cell_type": "code",
      "metadata": {
        "id": "eFN7-fUKs-Bu",
        "colab": {
          "base_uri": "https://localhost:8080/"
        },
        "outputId": "61908626-0fe3-422f-ccb0-a6581ac43a70"
      },
      "source": [
        "#@title Barras seletoras numéricas\n",
        "number_input = 10.0 #@param {type:\"number\"}\n",
        "number_slider = -0.6 #@param {type:\"slider\", min:-1, max:1, step:0.1}\n",
        "\n",
        "integer_input = 10 #@param {type:\"integer\"}\n",
        "integer_slider = 81 #@param {type:\"slider\", min:0, max:100, step:1}\n",
        "\n",
        "print(number_input)\n",
        "print(number_slider)\n",
        "\n",
        "print(integer_input)\n",
        "print(integer_slider)"
      ],
      "execution_count": null,
      "outputs": [
        {
          "output_type": "stream",
          "text": [
            "10.0\n",
            "-0.6\n",
            "10\n",
            "81\n"
          ],
          "name": "stdout"
        }
      ]
    },
    {
      "cell_type": "markdown",
      "metadata": {
        "id": "y5mlPz9LKOM_"
      },
      "source": [
        "# 6. Formulários com valores booleanos\n",
        "\n",
        "Os valores booleanos podem ser empregados em dois tipos de componentes:\n",
        "\n",
        "* Caixa de checagem (**checkbox**): funciona como um campo de tempo, mas ao escolher o tipo booleano (**'type:boolean'**), o código interpreta que deve gerar um caixa que permite ser selecionada ou não.\n",
        "\n",
        "* Menu suspenso (**'[ ]'**): neste caso deve-se empregar o tipo **'raw'** ao invés de **boolean**, pois **boolean** não pode ser conjugado com o menu suspenso."
      ]
    },
    {
      "cell_type": "code",
      "metadata": {
        "id": "ig8PIYeLtM8g",
        "colab": {
          "base_uri": "https://localhost:8080/"
        },
        "outputId": "8d16d11e-1df6-4032-9f53-331f0217b710"
      },
      "source": [
        "#@title Campos booleanos\n",
        "boolean_checkbox = True #@param {type:\"boolean\"}\n",
        "boolean_dropdown = False #@param [\"False\", \"True\"] {type:\"raw\"}\n",
        "\n",
        "print(boolean_checkbo2x)\n",
        "print(boolean_dropdown)"
      ],
      "execution_count": null,
      "outputs": [
        {
          "output_type": "stream",
          "text": [
            "True\n",
            "False\n"
          ],
          "name": "stdout"
        }
      ]
    },
    {
      "cell_type": "markdown",
      "metadata": {
        "id": "w52pLCr2M-kz"
      },
      "source": [
        "# 7. Separadores de campos\n",
        "\n",
        "É possível separar campos através de linhas separadoras de texto (**'Markdown ---'**). Também é possível inserir texto explicativo complementar aos componentes do formulário. O código a seguir ilustra como usar esses elementos em conjunto com um componente que requere a inserção de texto."
      ]
    },
    {
      "cell_type": "code",
      "metadata": {
        "id": "ZCEBZPwUDGOg"
      },
      "source": [
        "#@title ## Linhas separadoras\n",
        "#@markdown Texto explicativo acerca do campo a seguir.\n",
        "\n",
        "#@markdown ---\n",
        "#@markdown ### Entre com um caminho para um arquivo:\n",
        "file_path = \"\" #@param {type:\"string\"}\n",
        "#@markdown ---\n",
        "\n"
      ],
      "execution_count": null,
      "outputs": []
    },
    {
      "cell_type": "markdown",
      "metadata": {
        "id": "Ipkq3oXkOfxQ"
      },
      "source": [
        "# 8. Escondendo código dos formulários\n",
        "\n",
        "A forma como um formulário é visualizado pode ser modificado bastando selecionar **Ver → Mostrar/ocultar código** ou usando o menu suspenso que aparece à direita ao se selecionar a célula com o código. É possível escolher se deseja-se visualizar o código e o formulário, ou apenas o formulário, ou ainda apenas o código.\n",
        "\n",
        "Além disso é possível escolher se o formulário ficará em um modo de demonstração do código (**'display-mode: \"form\"'**) ou de auto-execução (**'run: \"auto\"'**)."
      ]
    },
    {
      "cell_type": "code",
      "metadata": {
        "id": "ad-fjFOQxoFG",
        "colab": {
          "base_uri": "https://localhost:8080/"
        },
        "outputId": "bccf026b-2bd7-491c-dfa6-24a059516a87"
      },
      "source": [
        "#@title Modo para apenas mostrar o código. { display-mode: \"form\" }\n",
        "\n",
        "option1 = 'B' #@param [\"A\", \"B\", \"C\"]\n",
        "print('Você escolheu', option1)\n"
      ],
      "execution_count": null,
      "outputs": [
        {
          "output_type": "stream",
          "text": [
            "Você escolheu B\n"
          ],
          "name": "stdout"
        }
      ]
    },
    {
      "cell_type": "code",
      "metadata": {
        "id": "h9aZYKhly2h_",
        "colab": {
          "base_uri": "https://localhost:8080/"
        },
        "outputId": "0b423ea2-8ece-4000-ef7b-bda22d5000b2"
      },
      "source": [
        "#@title Após executar essa célula, ela será modificada ao se trocar a opção. { run: \"auto\" }\n",
        "\n",
        "option2 = \"C\" #@param [\"A\", \"B\", \"C\"]\n",
        "print('Você escolheu', option2)\n"
      ],
      "execution_count": null,
      "outputs": [
        {
          "output_type": "stream",
          "text": [
            "Você escolheu C\n"
          ],
          "name": "stdout"
        }
      ]
    },
    {
      "cell_type": "markdown",
      "metadata": {
        "id": "ak6SWqmqpvPV"
      },
      "source": [
        "# 9. Aplicação: Gráficos e formulários\n",
        "\n",
        "O código a seguir mostra um formulário auto-executável (**{run: auto}**) que, após se clicar na execução do código, ao se modificar o valor de uma das opções, o gráfico muda de acordo com o valor selecionado para aquela opção.\n",
        "\n",
        "É utilizado em conjunto com os elementos do formulário comandos da biblioteca **matplotlib**.\n",
        "\n"
      ]
    },
    {
      "cell_type": "code",
      "metadata": {
        "colab": {
          "base_uri": "https://localhost:8080/",
          "height": 295
        },
        "id": "XKYNtugVqff5",
        "outputId": "2dee670e-5944-47f8-b082-28548c5de421"
      },
      "source": [
        "#@title Gráfico de linhas com pontos { run: \"auto\" }\n",
        "\n",
        "# Importando a biblioteca para fazer gráficos.\n",
        "import matplotlib.pyplot as plt\n",
        "\n",
        "x = [2, 3, 4, 5, 6, 7, 8, 9]\n",
        "y = [9, 2, 8, 3, 7, 4, 6, 5]\n",
        "\n",
        "Cor_linhas = \"Green\" #@param [\"Green\", \"Red\", \"Yellow\", \"Blue\", \"Black\"]\n",
        "Cor_pontos = \"Black\" #@param [\"Green\", \"Red\", \"Yellow\", \"Blue\", \"Black\"]\n",
        "Titulo_grafico = \"Evolução no tempo\" #@param {type:\"string\"}\n",
        "\n",
        "# Criando gráficos a partir dos valores contidos em x e y.\n",
        "plt.plot(x, y, color=Cor_linhas)  # Desenhando linhas\n",
        "plt.scatter(x, y, color=Cor_pontos) # Desenhando apenas os pontos\n",
        "plt.title(Titulo_grafico) # Título do gráfico\n",
        "plt.xlabel('Tempo')   # Definindo nome do eixo X\n",
        "plt.ylabel('Vendas')   # Definindo nome do eixo Y\n",
        "plt.legend(['Previsão','Verificado']) # Definindo legenda\n",
        "plt.grid()                            # Criando uma grade \n",
        "plt.show()\n"
      ],
      "execution_count": null,
      "outputs": [
        {
          "output_type": "display_data",
          "data": {
            "image/png": "[encoded data removed]",
            "text/plain": [
              "<Figure size 432x288 with 1 Axes>"
            ]
          },
          "metadata": {
            "tags": [],
            "needs_background": "light"
          }
        }
      ]
    },
    {
      "cell_type": "markdown",
      "metadata": {
        "id": "J0y5XgK22alR"
      },
      "source": [
        "# 10. Aplicação 2: Tabela de dados, gráficos e formulários\n",
        "\n",
        "O código dado a seguir mostra como integrar tabela de dados (**dataframe**), gráficos (**matplotlib**) e elementos de formulários.\n",
        "\n"
      ]
    },
    {
      "cell_type": "code",
      "metadata": {
        "colab": {
          "base_uri": "https://localhost:8080/",
          "height": 281
        },
        "id": "seyFh8if3H0E",
        "cellView": "form",
        "outputId": "458fde01-4795-4cd3-d00f-131b2aca161f"
      },
      "source": [
        "#@title Gráfico de linhas com pontos { run: \"auto\" }\n",
        "\n",
        "import pandas as pd\n",
        "import matplotlib.pyplot as plt\n",
        "\n",
        "# Preenchendo os dados da tabela por linha.\n",
        "ind=['Dia 1','Dia 2', 'Dia 3', 'Dia 4']\n",
        "col=['Empresa 1','Empresa 2','Empresa 3']\n",
        "dat=[[7,20,73],[6,17,77],[9,24,83],[5,15,57]]\n",
        "df = pd.DataFrame(data=dat, index=ind, columns=col)\n",
        "\n",
        "# Formulário para escolher empresa e cores dos gráficos.\n",
        "Opcao_Empresa = 'Empresa 2' #@param ['Empresa 1','Empresa 2','Empresa 3']\n",
        "Cor_linha = \"b--\" #@param [\"g--\", \"r--\", \"y--\", \"b--\", \"k--\"]\n",
        "Cor_barras = \"Red\" #@param [\"Green\", \"Red\", \"Yellow\", \"Blue\", \"Black\"]\n",
        "\n",
        "# Preparando parâmetros para exibição de gráficos.\n",
        "x = list(range(0,len(df[Opcao_Empresa])))\n",
        "y = df[Opcao_Empresa]\n",
        "plt.plot(x, y, Cor_linha)\n",
        "plt.bar(x, y, color=Cor_barras,tick_label=df.index)\n",
        "plt.title(Opcao_Empresa)\n",
        "plt.show()"
      ],
      "execution_count": null,
      "outputs": [
        {
          "output_type": "display_data",
          "data": {
            "image/png": "[encoded data removed]",
            "text/plain": [
              "<Figure size 432x288 with 1 Axes>"
            ]
          },
          "metadata": {
            "tags": [],
            "needs_background": "light"
          }
        }
      ]
    }
  ]
}